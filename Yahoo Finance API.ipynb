{
 "cells": [
  {
   "cell_type": "markdown",
   "id": "29215e65",
   "metadata": {},
   "source": [
    "# Yahoo Finance API\n",
    "Lindsey Norberg (lmn9ms) \n",
    "\n",
    "Quiz 2: November 3, 2021"
   ]
  },
  {
   "cell_type": "code",
   "execution_count": 157,
   "id": "4ac4660c",
   "metadata": {},
   "outputs": [],
   "source": [
    "## Importing packages\n",
    "\n",
    "import json \n",
    "import numpy as np \n",
    "import pandas as pd\n",
    "import requests\n",
    "import csv\n",
    "from csv import writer\n",
    "import time"
   ]
  },
  {
   "cell_type": "code",
   "execution_count": 158,
   "id": "0f1be5e4",
   "metadata": {},
   "outputs": [],
   "source": [
    "## Setting up the API token and the Yahoo Finance URL\n",
    "\n",
    "apikey = \"tLRfAjWyo18jQLjzkMatp4h6210lPw2i5CtbjJXq\"\n",
    "\n",
    "yahoo_url = \"https://yfapi.net/v6/finance/quote\"\n"
   ]
  },
  {
   "cell_type": "code",
   "execution_count": 159,
   "id": "e4c53779",
   "metadata": {},
   "outputs": [],
   "source": [
    "## Getting the api request \n",
    "\n",
    "## Creating a function where, when called, the function will ask the user to input a stock ticker\n",
    "def get_stock():\n",
    "    \n",
    "    ticker = str(input(\"Enter a stock ticker: \")).upper()\n",
    "    \n",
    "    try:\n",
    "        querystring = {\"symbols\": ticker}\n",
    "        headers = {'x-api-key': apikey}\n",
    "        response = requests.request(\"GET\", yahoo_url, headers=headers, params=querystring)\n",
    "\n",
    "        response.raise_for_status()  # raises exception when not a 2xx response\n",
    "    \n",
    "        if response.status_code != 204:\n",
    "            stock_json = response.json()\n",
    "            \n",
    "\n",
    "            stock_name = ticker\n",
    "            stock_price = stock_json['quoteResponse']['result'][0][\"regularMarketPrice\"]\n",
    "            timestamp = stock_json['quoteResponse']['result'][0][\"regularMarketTime\"]\n",
    "            timestamp = time.strftime(\"%Y-%m-%d %H:%M:%S\", time.gmtime(timestamp))\n",
    "            \n",
    "            output = ticker + \", \" + str(timestamp) + \", \" + str(stock_price)\n",
    "            \n",
    "            print(output)\n",
    "            \n",
    "            return [stock_name, timestamp, stock_price] \n",
    "    \n",
    "    # Error handling\n",
    "    \n",
    "    # If there is a key error, the system will print that the stock ticker does not exist\n",
    "    except KeyError: \n",
    "        print(\"This stock does not exist or is misspelled. Please try again.\") \n",
    "        \n",
    "    # If there is an index error, the system will also print that the user input is not valid \n",
    "    except IndexError: \n",
    "        print(\"This stock does not exist or is misspelled. Please try again.\")\n",
    "    "
   ]
  },
  {
   "cell_type": "code",
   "execution_count": 178,
   "id": "d3d09bb8",
   "metadata": {},
   "outputs": [
    {
     "name": "stdout",
     "output_type": "stream",
     "text": [
      "Enter a stock ticker: orcl\n",
      "ORCL, 2021-11-01 20:02:57, 94.38\n"
     ]
    }
   ],
   "source": [
    "# This will save the return value of the function call to be used for writing to the local csv file\n",
    "data_point = get_stock()"
   ]
  },
  {
   "cell_type": "code",
   "execution_count": 179,
   "id": "55dda2d9",
   "metadata": {},
   "outputs": [],
   "source": [
    "## Will write the data to a csv \n",
    "## If the csv doesn't exist already, it will create a  new empty csv \n",
    "\n",
    "try: \n",
    "    ## Doing this first so that if the file does not already exist, we will have to create it to the local directory\n",
    "    data = pd.read_csv(\"stock.csv\")\n",
    "    with open(\"stock.csv\", \"a\") as f: \n",
    "        writer = csv.writer(f)\n",
    "        writer.writerow(data_point)\n",
    "        f.close()\n",
    "except FileNotFoundError: \n",
    "    # Writing the new file to the local drive\n",
    "    with open(\"stock.csv\", \"w\") as f: \n",
    "        writer = csv.writer(f)\n",
    "        \n",
    "        # Need to also create the header row for the column names\n",
    "        header = [\"Ticker\", \"Market Time\", \"Price\"]\n",
    "        \n",
    "        writer.writerow(header)\n",
    "        writer.writerow(data_point)\n",
    "        f.close()\n",
    "        "
   ]
  }
 ],
 "metadata": {
  "kernelspec": {
   "display_name": "Python 3",
   "language": "python",
   "name": "python3"
  },
  "language_info": {
   "codemirror_mode": {
    "name": "ipython",
    "version": 3
   },
   "file_extension": ".py",
   "mimetype": "text/x-python",
   "name": "python",
   "nbconvert_exporter": "python",
   "pygments_lexer": "ipython3",
   "version": "3.8.8"
  }
 },
 "nbformat": 4,
 "nbformat_minor": 5
}
